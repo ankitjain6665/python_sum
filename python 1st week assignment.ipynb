{
 "cells": [
  {
   "cell_type": "code",
   "execution_count": 1,
   "id": "d21fe48c",
   "metadata": {},
   "outputs": [
    {
     "data": {
      "text/plain": [
       "int"
      ]
     },
     "execution_count": 1,
     "metadata": {},
     "output_type": "execute_result"
    }
   ],
   "source": [
    "a=10\n",
    "type(a)"
   ]
  },
  {
   "cell_type": "code",
   "execution_count": 3,
   "id": "d4af3907",
   "metadata": {},
   "outputs": [
    {
     "name": "stdout",
     "output_type": "stream",
     "text": [
      "2 10\n"
     ]
    }
   ],
   "source": [
    "#program to swap variables\n",
    "a=10\n",
    "b=2\n",
    "temp=''\n",
    "temp=a\n",
    "a=b\n",
    "b=temp\n",
    "print(a,b)"
   ]
  },
  {
   "cell_type": "code",
   "execution_count": 10,
   "id": "ed89b8a3",
   "metadata": {},
   "outputs": [
    {
     "name": "stdout",
     "output_type": "stream",
     "text": [
      "true\n"
     ]
    }
   ],
   "source": [
    "#program to check if a number is positive , negative , or zero\n",
    "a=-2\n",
    "if a>0: \n",
    "    print(\"false\")\n",
    "elif a<0:\n",
    "    print(\"true\")\n",
    "else:\n",
    "    print(\"false\")"
   ]
  },
  {
   "cell_type": "code",
   "execution_count": 11,
   "id": "a45895fc",
   "metadata": {},
   "outputs": [
    {
     "name": "stdout",
     "output_type": "stream",
     "text": [
      "given number is a odd number\n"
     ]
    }
   ],
   "source": [
    "#program to check if a number is even or odd\n",
    "a=25\n",
    "if a%2==0:\n",
    "    print(\"given number is a even number\")\n",
    "else:\n",
    "    print(\"given number is a odd number\")"
   ]
  },
  {
   "cell_type": "code",
   "execution_count": 16,
   "id": "8f6ca9a3",
   "metadata": {},
   "outputs": [
    {
     "name": "stdout",
     "output_type": "stream",
     "text": [
      "1 3 5 7 9 11 13 15 17 19 21 23 25 27 29 31 33 35 37 39 41 43 45 47 49 51 53 55 57 59 61 63 65 67 69 71 73 75 77 79 81 83 85 87 89 91 93 95 97 99 "
     ]
    }
   ],
   "source": [
    "#program to print odd number with a given range\n",
    "a=0\n",
    "b=100\n",
    "for i in range(a,b):\n",
    "        if i%2!=0:\n",
    "            print(i,end=\" \")\n",
    "    "
   ]
  },
  {
   "cell_type": "code",
   "execution_count": 22,
   "id": "5dff6c9b",
   "metadata": {},
   "outputs": [
    {
     "name": "stdout",
     "output_type": "stream",
     "text": [
      "120\n"
     ]
    }
   ],
   "source": [
    "#program to find factorial of a given number\n",
    "a=5\n",
    "factorial=1\n",
    "for i in range(1,a+1):\n",
    "    factorial=factorial*i\n",
    "print(factorial)"
   ]
  },
  {
   "cell_type": "code",
   "execution_count": 25,
   "id": "459a8a02",
   "metadata": {},
   "outputs": [
    {
     "name": "stdout",
     "output_type": "stream",
     "text": [
      "6809\n"
     ]
    }
   ],
   "source": [
    "# program to reverse a given number\n",
    "a=9086\n",
    "temp=a\n",
    "rev=''\n",
    "sum=0\n",
    "while(temp!=0):\n",
    "    rev=temp%10\n",
    "    sum=sum*10+rev\n",
    "    temp=temp//10\n",
    "print(sum)    \n",
    "    \n"
   ]
  },
  {
   "cell_type": "code",
   "execution_count": 26,
   "id": "78aa1927",
   "metadata": {},
   "outputs": [
    {
     "name": "stdout",
     "output_type": "stream",
     "text": [
      "5050\n"
     ]
    }
   ],
   "source": [
    "#program to find sum of natural numbers\n",
    "a=1\n",
    "b=100\n",
    "sum=0\n",
    "for i in range(a,b+1):\n",
    "    sum=sum+i\n",
    "print(sum)    \n",
    "    "
   ]
  },
  {
   "cell_type": "code",
   "execution_count": 37,
   "id": "35ec13d9",
   "metadata": {},
   "outputs": [
    {
     "data": {
      "text/plain": [
       "'elbmuh si nam'"
      ]
     },
     "execution_count": 37,
     "metadata": {},
     "output_type": "execute_result"
    }
   ],
   "source": [
    "#program to reverse a string without recurssion\n",
    "a=\"man is humble\"\n",
    "a[::-1]"
   ]
  },
  {
   "cell_type": "code",
   "execution_count": 45,
   "id": "b4ab189c",
   "metadata": {},
   "outputs": [
    {
     "name": "stdout",
     "output_type": "stream",
     "text": [
      "not a palindrome\n"
     ]
    }
   ],
   "source": [
    "#program to check if string is palindrome or not\n",
    "str1=\"hehe\"\n",
    "if str1[::]==str1[::-1]:\n",
    "    print(\"string is a palindrome\")\n",
    "else:\n",
    "    print(\"not a palindrome\")"
   ]
  },
  {
   "cell_type": "code",
   "execution_count": 46,
   "id": "87a08f6b",
   "metadata": {},
   "outputs": [
    {
     "data": {
      "text/plain": [
       "'hum$n h$s $ philips trimmer to use'"
      ]
     },
     "execution_count": 46,
     "metadata": {},
     "output_type": "execute_result"
    }
   ],
   "source": [
    "#write a python program to replace ALL OCCURENCES OF A'WITH \"$\" IN  given string\n",
    "str1=\"human has a philips trimmer to use\"\n",
    "str1.replace(\"a\",\"$\")"
   ]
  },
  {
   "cell_type": "code",
   "execution_count": 60,
   "id": "e9c11114",
   "metadata": {},
   "outputs": [
    {
     "name": "stdout",
     "output_type": "stream",
     "text": [
      "8\n",
      "33\n"
     ]
    }
   ],
   "source": [
    "#count the number of digits and a letter in a string\n",
    "str2=\"most evolve things in a life is to born on 11-07-1991\"\n",
    "digit=0\n",
    "letter=0\n",
    "for e in str2:\n",
    "    if e.isdigit():\n",
    "        digit+=1\n",
    "    elif e.isalpha():\n",
    "        letter+=1\n",
    "print(digit)\n",
    "print(letter)\n"
   ]
  },
  {
   "cell_type": "code",
   "execution_count": 86,
   "id": "3e7034b8",
   "metadata": {},
   "outputs": [
    {
     "name": "stdout",
     "output_type": "stream",
     "text": [
      "12\n"
     ]
    }
   ],
   "source": [
    "#python program to count number of vowels in a string\n",
    "str3=\"my name is ankit i m going to vandase\"\n",
    "vowel=0\n",
    "for i in str3:\n",
    "    if i=='a'or i=='e'or i=='i'or i=='o'or i=='u':\n",
    "        vowel+=1\n",
    "print(vowel)\n"
   ]
  },
  {
   "cell_type": "code",
   "execution_count": 87,
   "id": "63493694",
   "metadata": {},
   "outputs": [
    {
     "name": "stdout",
     "output_type": "stream",
     "text": [
      "10\n"
     ]
    }
   ],
   "source": [
    "#program to count number of lowercase letters in  STRING\n",
    "str4=\"MY NAME Is a paryushaN\"\n",
    "lowercase=0\n",
    "for i in str4:\n",
    "    if i.islower():\n",
    "        lowercase+=1\n",
    "print(lowercase)\n",
    "    \n"
   ]
  },
  {
   "cell_type": "code",
   "execution_count": 89,
   "id": "f04cd0c2",
   "metadata": {},
   "outputs": [
    {
     "name": "stdout",
     "output_type": "stream",
     "text": [
      "substring is present\n"
     ]
    }
   ],
   "source": [
    "#program to check if a substring is present in a given string\n",
    "str5='if a number is 50'\n",
    "str6=\"number\"\n",
    "if str6 in str5:\n",
    "    print(\"substring is present\")\n",
    "else:\n",
    "    print(\"no substring is present\")"
   ]
  },
  {
   "cell_type": "code",
   "execution_count": 90,
   "id": "24cb20b3",
   "metadata": {},
   "outputs": [
    {
     "name": "stdout",
     "output_type": "stream",
     "text": [
      "78\n"
     ]
    }
   ],
   "source": [
    "#program to find largest number in a list\n",
    "a=[1,3,54,23,78,65]\n",
    "maximum=max(a)\n",
    "for i in range(0,len(a)-1):\n",
    "    if i>max(a):\n",
    "        i==max(a)\n",
    "print(maximum)        \n"
   ]
  },
  {
   "cell_type": "code",
   "execution_count": 93,
   "id": "e817b0c1",
   "metadata": {},
   "outputs": [
    {
     "name": "stdout",
     "output_type": "stream",
     "text": [
      "[2, 4, 6, 8, 0]\n",
      "[1, 3, 5, 7, 9]\n"
     ]
    }
   ],
   "source": [
    "#progrsm to put even and odd elements in alist into two different list\n",
    "list1=[1,2,3,4,5,6,7,8,9,0]\n",
    "even_list=[]\n",
    "odd_list=[]\n",
    "for i in list1:\n",
    "    if i%2==0:\n",
    "        even_list.append(i)\n",
    "    else: \n",
    "        odd_list.append(i)\n",
    "print(even_list)\n",
    "print(odd_list)\n",
    "        "
   ]
  },
  {
   "cell_type": "code",
   "execution_count": 98,
   "id": "91b60e46",
   "metadata": {},
   "outputs": [
    {
     "name": "stdout",
     "output_type": "stream",
     "text": [
      "three\n"
     ]
    }
   ],
   "source": [
    "#program to read a list of words amd return the length of the longest one\n",
    "a=[\"one\",\"two\",\"three\"]\n",
    "maximum1=len(a[0])\n",
    "for i in a:\n",
    "    if len(i)>maximum1:\n",
    "        maximum1=i\n",
    "print(maximum1)        "
   ]
  },
  {
   "cell_type": "code",
   "execution_count": 13,
   "id": "49d0a921",
   "metadata": {},
   "outputs": [
    {
     "name": "stdout",
     "output_type": "stream",
     "text": [
      "[(1, 1), (3, 9), (5, 25), (8, 64), (23, 529)]\n"
     ]
    }
   ],
   "source": [
    "#Create a List of Tuples with the First Element as the Number and Second Element as the Square\n",
    "list_1=[1,3,5,8,23]\n",
    "ls1=[]\n",
    "for i in list_1:\n",
    "    list_1=(i,i**2)\n",
    "    ls1.append(list_1)\n",
    "print(ls1)\n"
   ]
  },
  {
   "cell_type": "code",
   "execution_count": 15,
   "id": "c6b409dc",
   "metadata": {},
   "outputs": [
    {
     "name": "stdout",
     "output_type": "stream",
     "text": [
      "enter the number: 4\n",
      "four\n"
     ]
    }
   ],
   "source": [
    "# write a program which takes number from 0 to 4 from the user and prints it in the word .And if the word is not from 0 to 9 it shold print that number is outside the range and program shoul exit\n",
    "a=int(input(\"enter the number: \"))\n",
    "if a==1:\n",
    "    print(\"one\")\n",
    "elif a==2:\n",
    "    print(\"two\")\n",
    "elif a==3:  \n",
    "     print(\"three\")\n",
    "elif a==4:    \n",
    "     print(\"four\")\n",
    "else: \n",
    "     print(\"word is outside the range\")\n",
    "    \n",
    "    \n",
    "        "
   ]
  },
  {
   "cell_type": "code",
   "execution_count": 72,
   "id": "37d0dc45",
   "metadata": {},
   "outputs": [
    {
     "name": "stdout",
     "output_type": "stream",
     "text": [
      "to add enter 1\n",
      "to subtract enter 2\n",
      "to multiply enter 3\n",
      "to divide enter 4\n",
      "to divide and find quotient enter 5\n",
      "to divide and find remainder enter 6\n",
      "to divide and find num1 to the power of num2 enter 7\n",
      "to come out of the program enter 8\n",
      "enter : 10\n"
     ]
    }
   ],
   "source": [
    "#write a program to implement a calculator but the operation to be done and two numbers will be talen as a input and program shoud print those below output\n",
    "\n",
    "#to add enter 1\n",
    "#to subtract enter 2\n",
    "#to multiply enter 3\n",
    "#to divide enter 4\n",
    "#to divide and find quotient enter 5\n",
    "#to divide and find remaider enter 6\n",
    "#to divide and find num1 to the power of num2 enter 7\n",
    "#to come out of the program enter 8\n",
    "print(\"to add enter 1\")\n",
    "print(\"to subtract enter 2\")\n",
    "print(\"to multiply enter 3\")\n",
    "print(\"to divide enter 4\")\n",
    "print(\"to divide and find quotient enter 5\")\n",
    "print(\"to divide and find remainder enter 6\")\n",
    "print(\"to divide and find num1 to the power of num2 enter 7\")\n",
    "print(\"to come out of the program enter 8\")\n",
    "while True:\n",
    "    input_1=int(input(\"enter : \"))\n",
    "    if input_1 in range(1,9):\n",
    "        if input_1==1:\n",
    "            num1=float(input(\"enter the first number : \"))\n",
    "            num2=float(input(\"enter the second number : \"))  \n",
    "            print(num1+num2) \n",
    "        elif input_1==2:\n",
    "            num1=float(input(\"enter the first number : \"))\n",
    "            num2=float(input(\"enter the second number : \"))  \n",
    "            print(num1-num2) \n",
    "        elif input_1==3:\n",
    "            num1=float(input(\"enter the first number : \"))\n",
    "            num2=float(input(\"enter the second number : \"))   \n",
    "            print(num1*num2)    \n",
    "        elif input_1==4:\n",
    "            num1=float(input(\"enter the first number : \"))\n",
    "            num2=float(input(\"enter the second number : \"))   \n",
    "            print(num1/num2)  \n",
    "        elif input_1==5:\n",
    "            num1=float(input(\"enter the first number : \"))\n",
    "            num2=float(input(\"enter the second number : \"))  \n",
    "            print(num1//num2)   \n",
    "        elif input_1==6:\n",
    "            num1=float(input(\"enter the first number : \"))\n",
    "            num2=float(input(\"enter the second number : \"))   \n",
    "            print(float(num1%num2))  \n",
    "        elif input_1==7:\n",
    "            num1=float(input(\"enter the first number : \"))\n",
    "            num2=float(input(\"enter the second number : \"))   \n",
    "            print(num1/num2,num1**num2)      \n",
    "        elif input_1==8:\n",
    "            print(\"come out of the program\")\n",
    "            break\n",
    "        else:\n",
    "            print(\"invalid key\")\n",
    "    break\n",
    "    print(\"want to perform operation again(yes/no):\")\n",
    "    input_2=input(\"choose: \")\n",
    "    if input_2==\"yes\":\n",
    "            continue\n",
    "    else:\n",
    "         print(\"exit the program\")\n",
    "    break   \n",
    "else:\n",
    "    print(\"invalid key\")\n",
    "\n",
    "                    \n",
    "    \n",
    "                   \n",
    "                   \n",
    "                   \n",
    "\n",
    "\n",
    "\n",
    "   \n",
    " \n",
    "\n"
   ]
  },
  {
   "cell_type": "code",
   "execution_count": 449,
   "id": "2d8e3152",
   "metadata": {},
   "outputs": [
    {
     "name": "stdout",
     "output_type": "stream",
     "text": [
      "enter a year:9800\n",
      "9800 is not a leap year\n"
     ]
    }
   ],
   "source": [
    "#write a program to check whether a number you entered is a leap yeaar or not\n",
    "a=int(input(\"enter a year:\"))\n",
    "if a%400==0 and a%100==0:\n",
    "    print(f\"{a} is a leap year\")\n",
    "else:\n",
    "    a%4==0 and a%100!=0\n",
    "    print(f\"{a} is not a leap year\")\n",
    "    \n",
    "\n"
   ]
  },
  {
   "cell_type": "code",
   "execution_count": 86,
   "id": "36439d67",
   "metadata": {},
   "outputs": [
    {
     "name": "stdout",
     "output_type": "stream",
     "text": [
      "enter the number1 :45\n",
      "enter the number2 :45\n",
      "45 and 45 are equal\n"
     ]
    }
   ],
   "source": [
    "#write a program which takes two number fromm the users and prints below output\n",
    "#num1 is greater than num2 if num1 is grester than num2\n",
    "#num1 is smaller than num2 if num1 is smaller than num2\n",
    "#num1 is equal to num2 if num1 AND NUM2 ARE EQUAL\n",
    "num1=int(input(\"enter the number1 :\"))\n",
    "num2=int(input(\"enter the number2 :\"))\n",
    "if num1>num2:\n",
    "    print(num1,\"is greater than\",num2)\n",
    "elif num1==num2:\n",
    "    print(num1,\"and\",num2,\"are equal\")\n",
    "else:\n",
    "    print(num1,\"is smaller than\",num2)\n"
   ]
  },
  {
   "cell_type": "code",
   "execution_count": 114,
   "id": "701eeef3",
   "metadata": {},
   "outputs": [
    {
     "name": "stdout",
     "output_type": "stream",
     "text": [
      "enter the number1:45\n",
      "enter the number2:67\n",
      "enter the number3:2\n",
      "the greatest number 67\n"
     ]
    }
   ],
   "source": [
    "#write a program which takes three numbers from the users and prints below output\n",
    "#num1 is greater than num2 and num3 if num1 is grester than num2 and num3\n",
    "#num2 is greater than num1 and num3 if num2 is greater than num1 and num3\n",
    "#num3 is greater than num1 and num2 if num3 is greater than num1 and num2\n",
    "num1=int(input(\"enter the number1:\"))\n",
    "num2=int(input(\"enter the number2:\"))\n",
    "num3=int(input(\"enter the number3:\"))\n",
    "result=num1 if(num1>num2 and num1> num3) else (num2 if num2>num3 else num3)\n",
    "print(\"the greatest number\",result)"
   ]
  },
  {
   "cell_type": "code",
   "execution_count": 37,
   "id": "beb9a42e",
   "metadata": {},
   "outputs": [
    {
     "name": "stdout",
     "output_type": "stream",
     "text": [
      "enter the number:10\n",
      "0\n",
      "1\n",
      "1\n",
      "2\n",
      "3\n",
      "5\n",
      "8\n",
      "13\n",
      "21\n",
      "34\n",
      "55\n"
     ]
    }
   ],
   "source": [
    "#Find the fibbonaci series of the given input\n",
    "n=int(input('enter the number:'))\n",
    "a=0\n",
    "b=1\n",
    "print(a)\n",
    "print(b)\n",
    "for i in range(1,n):\n",
    "    c=a+b\n",
    "    a,b=b,c\n",
    "    print(c)"
   ]
  },
  {
   "cell_type": "code",
   "execution_count": 58,
   "id": "4500b84c",
   "metadata": {},
   "outputs": [
    {
     "name": "stdout",
     "output_type": "stream",
     "text": [
      "enter the three digit number:8208\n",
      "4096\n",
      "4096\n",
      "4112\n",
      "8208\n",
      "no. is armstrong 8208\n"
     ]
    }
   ],
   "source": [
    "#write a program to check whether A number is a armstrong numner or not.\n",
    "n=int(input(\"enter the number:\"))\n",
    "temp=n\n",
    "sum=0\n",
    "rev=''\n",
    "while(temp>0):\n",
    "    rev=temp%10\n",
    "    sum+=pow(rev,len(str(n)))\n",
    "    print(sum)\n",
    "    temp=temp//10 \n",
    "if (sum==n):\n",
    "    print (\"no. is armstrong\",sum)  \n",
    "else:\n",
    "    print(\"number is not armstrong\")         "
   ]
  },
  {
   "cell_type": "code",
   "execution_count": 83,
   "id": "2fb2d3ca",
   "metadata": {},
   "outputs": [
    {
     "name": "stdout",
     "output_type": "stream",
     "text": [
      "True\n"
     ]
    }
   ],
   "source": [
    "#return true if sum of two variable is 50 or one of the variable is equal to 50\n",
    "# a=50\n",
    "# b=40\n",
    "def check(a,b):\n",
    "    return (a+b==50 or a==50 or b==50)\n",
    "print(check(50,40))"
   ]
  },
  {
   "cell_type": "code",
   "execution_count": 88,
   "id": "cde5c4d5",
   "metadata": {},
   "outputs": [
    {
     "name": "stdout",
     "output_type": "stream",
     "text": [
      "enter the number:24567\n",
      "7\n",
      "76\n",
      "765\n",
      "7654\n",
      "76542\n"
     ]
    }
   ],
   "source": [
    "#write a program to print the reverse of the number\n",
    "a=int(input(\"enter the number:\"))\n",
    "temp=a\n",
    "rev=''\n",
    "sum=0\n",
    "while(temp>0):\n",
    "    rev=temp%10\n",
    "    sum=sum*10+rev\n",
    "    temp=temp//10\n",
    "    print(sum)"
   ]
  },
  {
   "cell_type": "code",
   "execution_count": 89,
   "id": "51e31945",
   "metadata": {},
   "outputs": [
    {
     "data": {
      "text/plain": [
       "44"
      ]
     },
     "execution_count": 89,
     "metadata": {},
     "output_type": "execute_result"
    }
   ],
   "source": [
    "#write a python program to find the length of the stringusing loop\n",
    "str_1='peter piper picked a peck of pickled peppers'\n",
    "len(str_1)"
   ]
  },
  {
   "cell_type": "code",
   "execution_count": 454,
   "id": "aed18266",
   "metadata": {},
   "outputs": [
    {
     "name": "stdout",
     "output_type": "stream",
     "text": [
      "9\n"
     ]
    }
   ],
   "source": [
    "#write a python program to find the total p's apppeared in the string\n",
    "str_1='peter piper picked a peck of pickled peppers'\n",
    "count=0\n",
    "for i in str_1:\n",
    "    if i==\"p\":\n",
    "        count+=1\n",
    "    else:\n",
    "        pass\n",
    "print(count)    "
   ]
  },
  {
   "cell_type": "code",
   "execution_count": 457,
   "id": "2827cb50",
   "metadata": {},
   "outputs": [
    {
     "name": "stdout",
     "output_type": "stream",
     "text": [
      "0\n",
      "6\n",
      "8\n",
      "12\n",
      "21\n",
      "29\n",
      "37\n",
      "39\n",
      "40\n"
     ]
    }
   ],
   "source": [
    "#write a python program to print all the indexes of all the occurences of letter \"p\"\n",
    "str_1='peter piper picked a peck of pickled peppers'\n",
    "for i in range(0,len(str_1)-1):\n",
    "    if str_1[i]=='p':\n",
    "        print(i)\n",
    "      \n",
    "\n",
    "\n"
   ]
  },
  {
   "cell_type": "code",
   "execution_count": 122,
   "id": "a8a2bb5a",
   "metadata": {},
   "outputs": [
    {
     "name": "stdout",
     "output_type": "stream",
     "text": [
      "Pypeter piper picked a peck of pickled peppers\n"
     ]
    }
   ],
   "source": [
    "#w a p to create another string by adding \"Py\" in front of a given string if the iven string begins with the\"Py' return the original string\n",
    "str_1='peter piper picked a peck of pickled peppers'\n",
    "str_2=\"Py\"\n",
    "str_3=''\n",
    "if str_1[0:2]==\"Py\":\n",
    "    print(str_1)\n",
    "else:\n",
    "    str_3=str_2+str_1\n",
    "    print(str_3)"
   ]
  },
  {
   "cell_type": "code",
   "execution_count": 231,
   "id": "430e7b08",
   "metadata": {},
   "outputs": [
    {
     "name": "stdout",
     "output_type": "stream",
     "text": [
      "['peter', 'piper', 'picked', 'a', 'peck', 'of', 'pickled', 'peppers']\n",
      "['peppers', 'pickled', 'of', 'peck', 'a', 'picked', 'piper', 'peter']\n"
     ]
    }
   ],
   "source": [
    "#WAP to print reverse 0f the given string that is reverse of the words not reverse inside the wordes\n",
    "str_1='peter piper picked a peck of pickled peppers'\n",
    "list_1=str_1.split()\n",
    "print(list_1)\n",
    "a=0\n",
    "b=len(list_1)-1\n",
    "while(a<b):\n",
    "    list_1[a],list_1[b]=list_1[b],list_1[a]\n",
    "    a=a+1\n",
    "    b=b-1\n",
    "print(list_1)"
   ]
  },
  {
   "cell_type": "code",
   "execution_count": 247,
   "id": "f353ba92",
   "metadata": {},
   "outputs": [
    {
     "name": "stdout",
     "output_type": "stream",
     "text": [
      "retupmoc\n"
     ]
    }
   ],
   "source": [
    "#write a python program to print below output reverse a string\n",
    "str_1=\"computer\"\n",
    "str_2=\"\"\n",
    "a=len(str_1)\n",
    "for i in range(0,a):\n",
    "    str_2=str_2+str_1[a-1-i]\n",
    "print(str_2)"
   ]
  },
  {
   "cell_type": "code",
   "execution_count": 248,
   "id": "8745a1b4",
   "metadata": {},
   "outputs": [
    {
     "name": "stdout",
     "output_type": "stream",
     "text": [
      "noitnevni lufsseccus a saw retupmoc\n"
     ]
    }
   ],
   "source": [
    "#WAP to print a string in reverse order\n",
    "str_1=\"computer was a successful invention\"\n",
    "str_2=\"\"\n",
    "a=len(str_1)\n",
    "for i in range(0,a):\n",
    "    str_2=str_2+str_1[a-1-i]\n",
    "print(str_2)    "
   ]
  },
  {
   "cell_type": "code",
   "execution_count": 252,
   "id": "a087fa66",
   "metadata": {},
   "outputs": [
    {
     "name": "stdout",
     "output_type": "stream",
     "text": [
      "noitnevni lufsseccus a saw retupmoc\n",
      "['retupmoc', 'saw', 'a', 'lufsseccus', 'noitnevni']\n",
      "retupmoc saw a lufsseccus noitnevni\n"
     ]
    }
   ],
   "source": [
    "##WAP to print each word in a string in reverse order\n",
    "str_1=\"computer was a successful invention\"\n",
    "str_2=\"\"\n",
    "a=len(str_1)\n",
    "for i in range(0,a):\n",
    "    str_2=str_2+str_1[a-1-i]\n",
    "print(str_2) \n",
    "list=str_2.split()\n",
    "a=0\n",
    "b=len(list)-1\n",
    "while(a<b):\n",
    "    list[a],list[b]=list[b],list[a]\n",
    "    a=a+1\n",
    "    b=b-1\n",
    "print(list)\n",
    "str5=\" \".join(list)\n",
    "print(str5)"
   ]
  },
  {
   "cell_type": "code",
   "execution_count": 270,
   "id": "f5344ddd",
   "metadata": {},
   "outputs": [
    {
     "name": "stdout",
     "output_type": "stream",
     "text": [
      "0\n",
      "1\n",
      "2\n",
      "3\n",
      "4\n",
      "5\n",
      "6\n",
      "7\n",
      "['peter', 'piper', 'picked', 'a', 'pack', 'of', 'pickled', 'peppers']\n",
      "peter piper picked a pack of pickled peppers\n"
     ]
    }
   ],
   "source": [
    "#WAP to replace substring of a string with another substring\"pack\"\n",
    "str_1='peter piper picked a peck of pickled peppers'\n",
    "list1=str_1.split()\n",
    "for i in range(0,len(list1)):\n",
    "    print(i)\n",
    "    if list1[i]==\"peck\":\n",
    "        list1[i]=\"pack\"\n",
    "    else:\n",
    "        pass\n",
    "print(list1)\n",
    "str6=\" \".join(list1)\n",
    "print(str6)      \n"
   ]
  },
  {
   "cell_type": "code",
   "execution_count": 280,
   "id": "5654d9da",
   "metadata": {
    "scrolled": true
   },
   "outputs": [
    {
     "name": "stdout",
     "output_type": "stream",
     "text": [
      "('This', ' is', ' python class')\n"
     ]
    }
   ],
   "source": [
    "#WAP to separate the string from word \"is\"\n",
    "str='This is python class'\n",
    "list1=str.partition(' is')\n",
    "print(list1)\n"
   ]
  },
  {
   "cell_type": "code",
   "execution_count": 333,
   "id": "e9e68618",
   "metadata": {},
   "outputs": [
    {
     "name": "stdout",
     "output_type": "stream",
     "text": [
      "['This', 'python class']\n",
      "['This', 'python class']\n",
      "This$is$python class\n",
      "['This', 'is', 'python class']\n"
     ]
    }
   ],
   "source": [
    "#wap to seperate the string by second \"is\" present in a string\n",
    "str5='This is python class'\n",
    "list=str5.split(' is ')\n",
    "print(list)\n",
    "for i in range(0,len(list)-1):\n",
    "    if list[i]==\" \":\n",
    "        list[i]=\"is\"\n",
    "print(list)       \n",
    "str9=\"$is$\".join(list)\n",
    "print(str9)\n",
    "str11=str9.split(\"$\")\n",
    "print(str11)\n"
   ]
  },
  {
   "cell_type": "code",
   "execution_count": 448,
   "id": "813fa128",
   "metadata": {},
   "outputs": [
    {
     "name": "stdout",
     "output_type": "stream",
     "text": [
      "['peter', 'piper', 'picked', 'a', 'peck', 'of', 'pickled', 'peppers']\n",
      "['*****', '*****', '******', '*', 'peck', '**', '*******', '*******']\n",
      "*********************peck*******************\n"
     ]
    }
   ],
   "source": [
    "#WAP to replace all characters from \"*\" except \"peck\".\n",
    "str_1='peter piper picked a peck of pickled peppers'\n",
    "list1=str_1.split()\n",
    "substr1='peck'\n",
    "print(list1)\n",
    "list2=[]\n",
    "for i in range(0,len(list1)):\n",
    "    if list1[i]!=substr1:\n",
    "        length=len(list1[i])\n",
    "        star=\"*\"*length\n",
    "        list2.append(star)\n",
    "    else:\n",
    "        list2.append(substr1)\n",
    "print(list2)   \n",
    "str6=\"*\".join(list2)\n",
    "print(str6)\n"
   ]
  },
  {
   "cell_type": "code",
   "execution_count": 585,
   "id": "73eeb21e",
   "metadata": {},
   "outputs": [],
   "source": [
    "\n",
    "        \n",
    "    \n",
    "    "
   ]
  },
  {
   "cell_type": "code",
   "execution_count": 651,
   "id": "94634b14",
   "metadata": {},
   "outputs": [
    {
     "name": "stdout",
     "output_type": "stream",
     "text": [
      "['the', 'otp', 'for', 'this', 'transaction', 'is', 'sent', 'at', 'abc@gmail.com', 'and', 'def@yahoo.com', 'is', '9087']\n",
      "abc@gmail.comdef@yahoo.com9087\n"
     ]
    }
   ],
   "source": [
    "#write a progam to extract otp from the string and email addresses from the string\n",
    "msg='the otp for this transaction is sent at abc@gmail.com and def@yahoo.com is 9087'\n",
    "list=msg.split(\" \")\n",
    "print(list)\n",
    "for i in list:\n",
    "    for j in i:\n",
    "        if j==\"@\":\n",
    "            print(i,end=\"\")\n",
    "    if j>=\"0\" and j<=\"9\":\n",
    "        print(i)\n",
    "    \n",
    "    \n",
    "\n",
    "    \n",
    "        "
   ]
  },
  {
   "cell_type": "code",
   "execution_count": 689,
   "id": "b85d47c0",
   "metadata": {},
   "outputs": [
    {
     "name": "stdout",
     "output_type": "stream",
     "text": [
      "['apple', 'custard apple', 'green apple']\n"
     ]
    }
   ],
   "source": [
    "#create a list of words containing apples and create a list without word containing apples fro aparent list\n",
    "fruits1=[\"apple\",\"grapes\",\"guava\",\"banana\",\"custard apple\",\"green apple\",\"orange\"]\n",
    "fruit2=[]\n",
    "fruit3=[]\n",
    "for i in fruits1:\n",
    "    for j in i:\n",
    "        if j==\" \":\n",
    "             fruit2.append(i)  \n",
    "    if i==\"apple\": \n",
    "              fruit2.append(i)\n",
    "print(fruit2)               "
   ]
  },
  {
   "cell_type": "code",
   "execution_count": 805,
   "id": "c8534f80",
   "metadata": {},
   "outputs": [
    {
     "name": "stdout",
     "output_type": "stream",
     "text": [
      "enter the word1:akkab\n",
      "enter the word2:ajabj\n",
      "abcdefghijklmnopqrstuvwxyz\n",
      "['a', 'b', 'k']\n",
      "['a', 'b', 'k']\n",
      "yes given string is a anagram\n"
     ]
    }
   ],
   "source": [
    "#WAP TO Print string letters in ascendimg order and check whether a given string is anagram or not\n",
    "a=input(\"enter the word1:\")\n",
    "b=input(\"enter the word2:\")\n",
    "list=[]\n",
    "list2=[]\n",
    "str1=\"abcdefghijklmnopqrstuvwxyz\"\n",
    "print(str1)\n",
    "for i in str1:\n",
    "    if i in a:\n",
    "            list.append(i)\n",
    "print(list)           \n",
    "for i in str1:\n",
    "    if i in a:\n",
    "            list2.append(i)\n",
    "print(list2)           \n",
    "if list==list2:\n",
    "    print(\"yes given string is a anagram\")\n",
    "else:\n",
    "    print(\"given string is not an anagram\")"
   ]
  },
  {
   "cell_type": "code",
   "execution_count": 820,
   "id": "c78fbdff",
   "metadata": {},
   "outputs": [
    {
     "name": "stdout",
     "output_type": "stream",
     "text": [
      "enter the word1:ayush\n",
      "enter the word2:mgji\n",
      "abcdefghijklmnopqrstuvwxyz\n",
      "['a', 'h', 's', 'u', 'y']\n",
      "['g', 'i', 'j', 'm']\n",
      "given string is not an anagram\n"
     ]
    }
   ],
   "source": [
    "\n",
    "#WAP TO Print string letters in ascendimg order and check whether a given string is anagram or not\n",
    "a=input(\"enter the word1:\")\n",
    "b=input(\"enter the word2:\")\n",
    "list=[]\n",
    "list2=[]\n",
    "str1=\"abcdefghijklmnopqrstuvwxyz\"\n",
    "print(str1)\n",
    "for i in str1:\n",
    "    for j in a:\n",
    "        if i==j:\n",
    "            list.append(i)\n",
    "    for j in b:        \n",
    "        if i==j:\n",
    "            list2.append(i)\n",
    "print(list)\n",
    "print(list2)\n",
    "if list==list2:\n",
    "    print(\"yes given string is a anagram\")\n",
    "else:\n",
    "    print(\"given string is not an anagram\")\n"
   ]
  },
  {
   "cell_type": "code",
   "execution_count": 768,
   "id": "70f4ed48",
   "metadata": {
    "scrolled": true
   },
   "outputs": [
    {
     "name": "stdout",
     "output_type": "stream",
     "text": [
      "apple,grapes,guava,banana,custard apple,green apple,orange\n",
      "applegrapesguavabananacustard applegreen appleorange\n"
     ]
    }
   ],
   "source": [
    "fruits1=[\"apple\",\"grapes\",\"guava\",\"banana\",\"custard apple\",\"green apple\",\"orange\"]\n",
    "str1=\",\".join(fruits1)\n",
    "print(str1)\n",
    "str1=str1.replace(\",\",\"\")\n",
    "print(str1)\n"
   ]
  },
  {
   "cell_type": "code",
   "execution_count": 821,
   "id": "e137af6f",
   "metadata": {},
   "outputs": [
    {
     "name": "stdout",
     "output_type": "stream",
     "text": [
      "no\n"
     ]
    }
   ],
   "source": [
    "a=\"eat\"\n",
    "b=\"tea\"\n",
    "if a==b:\n",
    "    print(\"yes\")\n",
    "else:print(\"no\")    "
   ]
  },
  {
   "cell_type": "code",
   "execution_count": 920,
   "id": "9f2e7344",
   "metadata": {},
   "outputs": [
    {
     "name": "stdout",
     "output_type": "stream",
     "text": [
      "[1, 2, 10, 100, 200, 2321]\n",
      "200\n"
     ]
    }
   ],
   "source": [
    "#Write a Python program to sort a list using loop.\n",
    "a=[10,100,2321, 1,200,2]\n",
    "temp=a\n",
    "for i in range(0,len(a)):\n",
    "    for j in range(i+1,len(a)):\n",
    "        if a[i]>a[j]:\n",
    "            temp=a[i]\n",
    "            a[i]=a[j]\n",
    "            a[j]=temp\n",
    "print(a)\n",
    "b=a[-2] #second largest number\n",
    "print(b)"
   ]
  },
  {
   "cell_type": "code",
   "execution_count": 928,
   "id": "560adfad",
   "metadata": {},
   "outputs": [
    {
     "name": "stdout",
     "output_type": "stream",
     "text": [
      "24000 23021\n"
     ]
    }
   ],
   "source": [
    "#WAP to find the largest and second largest number in a list\n",
    "a=[9010,100,23021,2,24000,20]\n",
    "temp1\n",
    "temp2\n",
    "for i in range(0,len(a)):\n",
    "    if a[i]>temp1: \n",
    "        temp1=a[i]\n",
    "    if a[i]>temp2 and a[i]!=temp1:   \n",
    "        temp2=a[i]\n",
    "print(temp1,temp2)\n"
   ]
  },
  {
   "cell_type": "code",
   "execution_count": 950,
   "id": "58dcdd54",
   "metadata": {},
   "outputs": [
    {
     "name": "stdout",
     "output_type": "stream",
     "text": [
      "-45\n"
     ]
    }
   ],
   "source": [
    "#WAP to find the smallest number in a list\n",
    "a=[89,-45,23021,200,24000,189]\n",
    "temp=100000000\n",
    "for i in range(0,len(a)):\n",
    "    if a[i]<temp: \n",
    "        temp=a[i]\n",
    "print(temp)"
   ]
  },
  {
   "cell_type": "code",
   "execution_count": 970,
   "id": "ecd003b7",
   "metadata": {},
   "outputs": [
    {
     "name": "stdout",
     "output_type": "stream",
     "text": [
      "ab string is not a palindrome\n",
      "abc\n",
      "abc string is not a palindrome\n",
      "aba\n",
      "aba string is a plindrome\n",
      "xyz\n",
      "xyz string is not a palindrome\n",
      "1991\n",
      "1991 string is a plindrome\n"
     ]
    }
   ],
   "source": [
    "#a Python program to count the number of strings having length more than 2 and are palindrome in a list using loop.\n",
    "a=['ab', 'abc', 'aba', 'xyz', '1991']\n",
    "for i in range(0,len(a)):\n",
    "    if len(a[i])>2:\n",
    "        print(a[i])\n",
    "    if a[i][::]==a[i][::-1]:\n",
    "        print(a[i],\"string is a plindrome\")\n",
    "    else:\n",
    "        print(a[i],\"string is not a palindrome\")"
   ]
  },
  {
   "cell_type": "code",
   "execution_count": 1122,
   "id": "d9d06f28",
   "metadata": {},
   "outputs": [
    {
     "name": "stdout",
     "output_type": "stream",
     "text": [
      "[(9, 1), (2, 3), (5, 4), (5, 5), (7, 6), (5, 9)]\n"
     ]
    }
   ],
   "source": [
    "#Write a Python program to get a sorted list in increasing order of last element in each tuple in a given list using loop.\n",
    "a=[(5,4),(9,1),(2,3),(5,9),(7,6),(5,5)]\n",
    "b=len(a)\n",
    "for i in range(0,b):\n",
    "    for j in range(0,b-i-1):\n",
    "        if a[j][1]>a[j+1][1]:\n",
    "            temp=a[j]\n",
    "            a[j]=a[j+1]\n",
    "            a[j+1]=temp\n",
    "print(a)\n",
    "     \n",
    "      "
   ]
  },
  {
   "cell_type": "code",
   "execution_count": 1193,
   "id": "4c19b6be",
   "metadata": {},
   "outputs": [
    {
     "name": "stdout",
     "output_type": "stream",
     "text": [
      "[1, 1, 1, 10, 10, 11, 11, 29, 29, 92, 768, 876, 876]\n",
      "[1, 10, 11, 29, 92, 768, 876]\n",
      "7\n"
     ]
    }
   ],
   "source": [
    "#write a python program to eliminate duplicate elements from the list\n",
    "a=[10,1,11,1,29,876,768,10,11,1,92,29,876]\n",
    "b=len(a)\n",
    "c=[]\n",
    "count=0\n",
    "for i in range(0,b):\n",
    "    for j in range(0,b-i-1):\n",
    "        if a[j]>a[j+1]:\n",
    "            temp=a[j]\n",
    "            a[j]=a[j+1]\n",
    "            a[j+1]=temp\n",
    "print(a)            \n",
    "for i in range(0,b):\n",
    "    if a[i]!=a[i-1]:\n",
    "        c.append(a[i])\n",
    "        count+=1\n",
    "print(c)        \n",
    "print(count)"
   ]
  },
  {
   "cell_type": "code",
   "execution_count": 1212,
   "id": "cbd49e41",
   "metadata": {},
   "outputs": [
    {
     "name": "stdout",
     "output_type": "stream",
     "text": [
      "Object `not` not found.\n",
      "list is non empty\n"
     ]
    }
   ],
   "source": [
    "Write a Python program to check a list is empty or not?\n",
    "#Input:- []\n",
    "#Output:- List is empty\n",
    "#Input:- [10,20,30]\n",
    "#Output:- List is not empty\n",
    "a=[10,20,30]\n",
    "if a==[]:\n",
    "    print(\"list is empty\")\n",
    "else:\n",
    "    print(\"list is non empty\")\n"
   ]
  },
  {
   "cell_type": "code",
   "execution_count": 1213,
   "id": "53016bdb",
   "metadata": {},
   "outputs": [
    {
     "name": "stdout",
     "output_type": "stream",
     "text": [
      "[10, 10.2, (10+20j), 'Python', [10, 20], (10, 20)]\n"
     ]
    }
   ],
   "source": [
    "#Write a Python program to copy a list using loop.\n",
    "#inp_lst = [10,10.20,10+20j, 'Python', [10,20], (10,20)]\n",
    "#out_lst = [10,10.20,10+20j, 'Python', [10,20], (10,20)]\n",
    "a=[10,10.20,10+20j, 'Python', [10,20], (10,20)]\n",
    "b=a\n",
    "print(b)"
   ]
  },
  {
   "cell_type": "code",
   "execution_count": 1215,
   "id": "92b884d8",
   "metadata": {},
   "outputs": [
    {
     "name": "stdout",
     "output_type": "stream",
     "text": [
      "[21, 87, 45, 33, 1]\n"
     ]
    }
   ],
   "source": [
    "#Write a Python program which takes a list of numbers as input and prints a new list after removing even numbers from it.\n",
    "#Input:- [10,21,22,98,87,45,33,1,2,100]\n",
    "#Output:- [21,87,45,33,1]\n",
    "a=[10,21,22,98,87,45,33,1,2,100]\n",
    "b=[]\n",
    "for i in a:\n",
    "    if i%2!=0:\n",
    "        b.append(i)\n",
    "print(b)\n",
    "        \n",
    "    "
   ]
  },
  {
   "cell_type": "code",
   "execution_count": 1247,
   "id": "d01e0cef",
   "metadata": {},
   "outputs": [
    {
     "name": "stdout",
     "output_type": "stream",
     "text": [
      "['Python', 10.2, (10+20j), [10, 20, 30], (10, 20, 30)]\n"
     ]
    }
   ],
   "source": [
    "#Write a Python program which takes two list as input and returns True if they have at least 3 common elements.\n",
    "#inp_lst1 = [10,20,'Python', 10.20, 10+20j, [10,20,30], (10,20,30)]\n",
    "#inp_lst2 = [(10,20,30),1,20+3j,100.2, 10+20j, [10,20,30],'Python']\n",
    "#Output:- True\n",
    "a=[10,20,'Python', 10.20, 10+20j, [10,20,30], (10,20,30)]\n",
    "b=[(10,20,30),1,20+3j,10.2, 10+20j, [10,20,30],'Python']\n",
    "count=0\n",
    "e=len(b)\n",
    "c=[]\n",
    "d=len(a)\n",
    "for i in range(0,d):\n",
    "    for j in range(0,e):\n",
    "        if a[i]==a[j]:\n",
    "            count+=1\n",
    "            break\n",
    "    if count>2:    \n",
    "        c.append(a[i])\n",
    "print(c)\n",
    "                \n",
    "            "
   ]
  },
  {
   "cell_type": "code",
   "execution_count": 1330,
   "id": "4626cc1a",
   "metadata": {},
   "outputs": [
    {
     "name": "stdout",
     "output_type": "stream",
     "text": [
      "['much', 'wood', 'would', 'woodchuck', 'chuck', 'woodchuck', 'could', 'chuck', 'wood']\n",
      "[]\n"
     ]
    }
   ],
   "source": [
    "#Write a Python program to find the list of words that are longer than or equal to 4 from a given string.\n",
    "#Input:- 'How much wood would a woodchuck chuck if a woodchuck could chuck wood'\n",
    "#Output:- ['much', 'wood', 'would', 'woodchuck', 'chuck', 'could']\n",
    "#Note:- Duplicate should be avoided.\n",
    "a='How much wood would a woodchuck chuck if a woodchuck could chuck wood'\n",
    "b=a.split()\n",
    "c=len(b)\n",
    "d=[]\n",
    "j=len(d)\n",
    "t=[]\n",
    "count=1\n",
    "for i in range(0,c):\n",
    "    if len(b[i])>=4:\n",
    "        d.append(b[i])\n",
    "print(d)\n",
    "for i in range(0,j):\n",
    "    count=1\n",
    "    for n in range(0,j):\n",
    "            if d[i]!=d[n] and count>0 and count<2:\n",
    "                t.append(d[i])\n",
    "                break \n",
    "print(t)            \n",
    "            \n",
    "    \n",
    "       \n"
   ]
  },
  {
   "cell_type": "code",
   "execution_count": 1354,
   "id": "360cb5bf",
   "metadata": {},
   "outputs": [
    {
     "name": "stdout",
     "output_type": "stream",
     "text": [
      "['much', 'wood', 'would', 'woodchuck', 'chuck', 'could']\n"
     ]
    }
   ],
   "source": [
    "a='How much wood would a woodchuck chuck if a woodchuck could chuck wood'\n",
    "b=a.split()\n",
    "t=[]\n",
    "for i in b:\n",
    "    if len(i)>=4 and i not in t:\n",
    "        t.append(i)      \n",
    "print(t)            "
   ]
  },
  {
   "cell_type": "code",
   "execution_count": 12,
   "id": "7808a923",
   "metadata": {},
   "outputs": [
    {
     "name": "stdout",
     "output_type": "stream",
     "text": [
      "n programming  on learnbay platform since 07.04.2023\n"
     ]
    }
   ],
   "source": [
    "#if count of total p exceeds total digits in tne string then read the first 20 characters else deleye the first 20 charactera\n",
    "a=\"we are learning python programming  on learnbay platform since 07.04.2023\"\n",
    "digit=0\n",
    "for i in a:\n",
    "    if i.isdigit():\n",
    "        digit +=1\n",
    "        \n",
    "if a.count('p')>digit:\n",
    "    print (a[:20])\n",
    "else:\n",
    "    print(a[21:])\n",
    "    "
   ]
  },
  {
   "cell_type": "code",
   "execution_count": 61,
   "id": "bb4b32d3",
   "metadata": {},
   "outputs": [
    {
     "name": "stdout",
     "output_type": "stream",
     "text": [
      "07.04.2023\n",
      "['07', '04', '2023']\n"
     ]
    }
   ],
   "source": [
    "#return the date month and year from the string\n",
    "a=\"we are learning python programming  on learnbay platform since 07.04.2023\"\n",
    "b=a.split()\n",
    "str1=b[-1]\n",
    "print(str1)\n",
    "e=str1.split(\".\")\n",
    "print(e)"
   ]
  },
  {
   "cell_type": "code",
   "execution_count": 65,
   "id": "7407b503",
   "metadata": {},
   "outputs": [
    {
     "name": "stdout",
     "output_type": "stream",
     "text": [
      "['hi', 'tiger', '', 'lion....', '52', '%%%', 'hi', '.....']\n"
     ]
    }
   ],
   "source": [
    "#joij the above list on the basis of pattern%%%\n",
    "list_1=[\"hi\",\"tiger\",\"\",\"lion....\",\"52\"]\n",
    "list_2= [\"hi\",\".....\"] \n",
    "list_3=list_1+[\"%%%\"]+list_2       \n",
    "print(list_3)"
   ]
  },
  {
   "cell_type": "code",
   "execution_count": 71,
   "id": "7aa901c3",
   "metadata": {},
   "outputs": [
    {
     "name": "stdout",
     "output_type": "stream",
     "text": [
      "s\n"
     ]
    },
    {
     "data": {
      "text/plain": [
       "'hi master. hope all good.can u help me sir?'"
      ]
     },
     "execution_count": 71,
     "metadata": {},
     "output_type": "execute_result"
    }
   ],
   "source": [
    "#wap to replacefirst sir from the string\n",
    "msg=\"hi sir. hope all good.can u help me sir?\"\n",
    "msg[:6].replace(\"sir\",\"master\")+msg[6:len(msg)]\n"
   ]
  },
  {
   "cell_type": "code",
   "execution_count": 72,
   "id": "16762b92",
   "metadata": {},
   "outputs": [
    {
     "name": "stdout",
     "output_type": "stream",
     "text": [
      "12321\n",
      "noon\n",
      "naman\n",
      "hi ih\n"
     ]
    }
   ],
   "source": [
    "#find out all the palindromes in the list\n",
    "a=[\"hello\",\"12321\",\"noon\",\"1258\",\"naman\",\"True\",\"-6.3\",\"6+5j\",\"hi ih\"]\n",
    "for i in a:\n",
    "    if i[::]==i[::-1]:\n",
    "        print(i)"
   ]
  },
  {
   "cell_type": "code",
   "execution_count": 284,
   "id": "e829298e",
   "metadata": {},
   "outputs": [
    {
     "name": "stdout",
     "output_type": "stream",
     "text": [
      "KK 25 BAL DD\n"
     ]
    }
   ],
   "source": [
    "#convert the string to upper case if any vowel is peresent else convert the string into title\n",
    "str1=\"KK 25 Bal dd\"\n",
    "vowel=(\"a\",\"e\",\"i\",\"o\",\"u\")\n",
    "flag=1\n",
    "for i in vowel:\n",
    "    if i in str1.lower():\n",
    "        flag=1\n",
    "        break\n",
    "    else:\n",
    "        flag=0\n",
    "if flag:\n",
    "    print(str1.upper())\n",
    "else:\n",
    "    print(str1.title())\n",
    "        "
   ]
  },
  {
   "cell_type": "code",
   "execution_count": 305,
   "id": "3403a18f",
   "metadata": {},
   "outputs": [
    {
     "name": "stdout",
     "output_type": "stream",
     "text": [
      "[1, 9.007, 'lion.....', '7']\n"
     ]
    }
   ],
   "source": [
    "#Write python program to show values at even position in a list\n",
    "list_1=[1,8,9.007,\"hello\",\"lion.....\",\"6+2j\",\"7\"]\n",
    "l1=[]\n",
    "for i in range(0,len(list_1)):\n",
    "    if i%2==0:\n",
    "        l1.append(list_1[i])\n",
    "print(l1)\n"
   ]
  },
  {
   "cell_type": "code",
   "execution_count": 388,
   "id": "8b05613f",
   "metadata": {},
   "outputs": [
    {
     "name": "stdout",
     "output_type": "stream",
     "text": [
      "Ab Cd Ef Gh \n",
      "['Ab', 'Cd', 'Ef', 'Gh']\n"
     ]
    }
   ],
   "source": [
    "a=[\"ab\",\"cd\",\"ef\",\"gh\"]\n",
    "d=''\n",
    "for i in a:\n",
    "    b=i[0].upper()\n",
    "    f=b+i[1::]\n",
    "    d+= f+\" \"\n",
    "print(d)\n",
    "e=d.split()\n",
    "print(e)"
   ]
  },
  {
   "cell_type": "code",
   "execution_count": 22,
   "id": "b87fcbd3",
   "metadata": {},
   "outputs": [
    {
     "name": "stdout",
     "output_type": "stream",
     "text": [
      "**\n",
      "****\n",
      "******\n",
      "********\n",
      "**********\n",
      "************\n",
      "**************\n",
      "****************\n",
      "******************\n",
      "********************\n",
      "**********************\n",
      "************************\n",
      "**************************\n",
      "****************************\n",
      "******************************\n",
      "********************************\n",
      "**********************************\n",
      "************************************\n",
      "**************************************\n",
      "****************************************\n",
      "******************************************\n"
     ]
    }
   ],
   "source": [
    "a=\"naman jain ankit jain\"\n",
    "b=a.split()\n",
    "f=\"\"\n",
    "for i in a:\n",
    "    f+=\"*\"+\"*\"\n",
    "    print(f)"
   ]
  },
  {
   "cell_type": "code",
   "execution_count": 28,
   "id": "6acad359",
   "metadata": {},
   "outputs": [
    {
     "name": "stdout",
     "output_type": "stream",
     "text": [
      "Naman Jain Ankit Jain \n"
     ]
    }
   ],
   "source": [
    "a=\"naman jain ankit jain\"\n",
    "b=a.split()\n",
    "f=\"\"\n",
    "for i in b:\n",
    "    f+=i[0].upper()+i[1:]+\" \"\n",
    "print(f)"
   ]
  },
  {
   "cell_type": "code",
   "execution_count": null,
   "id": "33c2f4ec",
   "metadata": {},
   "outputs": [],
   "source": [
    "#wap with function to find a given number is a perfect number or not\n",
    "def pint1(n):\n",
    "    sum=0\n",
    "    for i in range(1,n):\n",
    "        if n%i==0:\n",
    "            sum+=i\n",
    "    return sum\n",
    "pint1(496)         "
   ]
  },
  {
   "cell_type": "code",
   "execution_count": 27,
   "id": "409b40eb",
   "metadata": {},
   "outputs": [
    {
     "name": "stdout",
     "output_type": "stream",
     "text": [
      "25\n"
     ]
    }
   ],
   "source": [
    "# In Python, it is possible to pass a function as a argument to another function. \n",
    "# Write a function useFunction(func, num) that takes in a function and a number as arguments. \n",
    "# The useFunction should produce the output shown in the examples given below.\n",
    "\n",
    "# def addOne(x):\n",
    "#   return x + 1\n",
    "# useFunction(addOne, 4)\n",
    "# 25\n",
    "# useFunction(addOne, 9)\n",
    "# 100\n",
    "# useFunction(addOne, 0)\n",
    "# 1\n",
    "\n",
    "def addone(x):\n",
    "    return x+1\n",
    "def usefunc(addone,y):\n",
    "    return addone(y)**2\n",
    "print(usefunc(addone,4))\n",
    "\n",
    "\n"
   ]
  },
  {
   "cell_type": "code",
   "execution_count": 1,
   "id": "d95e9508",
   "metadata": {},
   "outputs": [
    {
     "name": "stdout",
     "output_type": "stream",
     "text": [
      "enter the row number:5\n",
      "None\n",
      "None\n",
      "None\n",
      "None\n"
     ]
    },
    {
     "ename": "IndexError",
     "evalue": "list index out of range",
     "output_type": "error",
     "traceback": [
      "\u001b[0;31m---------------------------------------------------------------------------\u001b[0m",
      "\u001b[0;31mIndexError\u001b[0m                                Traceback (most recent call last)",
      "Input \u001b[0;32mIn [1]\u001b[0m, in \u001b[0;36m<cell line: 4>\u001b[0;34m()\u001b[0m\n\u001b[1;32m      8\u001b[0m             \u001b[38;5;28mprint\u001b[39m(temp\u001b[38;5;241m.\u001b[39mappend(\u001b[38;5;241m1\u001b[39m))\n\u001b[1;32m      9\u001b[0m         \u001b[38;5;28;01melse\u001b[39;00m:\n\u001b[0;32m---> 10\u001b[0m             \u001b[38;5;28mprint\u001b[39m(temp\u001b[38;5;241m.\u001b[39mappend([\u001b[43mls\u001b[49m\u001b[43m[\u001b[49m\u001b[43mi\u001b[49m\u001b[38;5;241;43m+\u001b[39;49m\u001b[38;5;241;43m1\u001b[39;49m\u001b[43m]\u001b[49m[j\u001b[38;5;241m-\u001b[39m\u001b[38;5;241m1\u001b[39m]]\u001b[38;5;241m+\u001b[39m[ls[i\u001b[38;5;241m-\u001b[39m\u001b[38;5;241m1\u001b[39m][j]]))\n\u001b[1;32m     11\u001b[0m \u001b[38;5;28mprint\u001b[39m(ls\u001b[38;5;241m.\u001b[39mappend(temp))\n",
      "\u001b[0;31mIndexError\u001b[0m: list index out of range"
     ]
    }
   ],
   "source": [
    "#write a python function that prints out the first n rows of pascals triangle\n",
    "n=int(input(\"enter the row number:\"))\n",
    "ls=[]\n",
    "for i in range(n):          #. [1],[1,1][1,2,1][1,3,3,1]\n",
    "    temp=[]\n",
    "    for j in range(i+1):\n",
    "        if j==0 or j==i:\n",
    "            print(temp.append(1))\n",
    "        else:\n",
    "            print(temp.append([ls[i+1][j-1]]+[ls[i-1][j]]))\n",
    "print(ls.append(temp))\n",
    "    "
   ]
  },
  {
   "cell_type": "code",
   "execution_count": 1,
   "id": "b5c3ef22",
   "metadata": {},
   "outputs": [
    {
     "ename": "AttributeError",
     "evalue": "'function' object has no attribute 'append'",
     "output_type": "error",
     "traceback": [
      "\u001b[0;31m---------------------------------------------------------------------------\u001b[0m",
      "\u001b[0;31mAttributeError\u001b[0m                            Traceback (most recent call last)",
      "Input \u001b[0;32mIn [1]\u001b[0m, in \u001b[0;36m<cell line: 9>\u001b[0;34m()\u001b[0m\n\u001b[1;32m      7\u001b[0m         series\u001b[38;5;241m=\u001b[39mfibbonaci_ser\u001b[38;5;241m.\u001b[39mappend(c)\n\u001b[1;32m      8\u001b[0m         series   \n\u001b[0;32m----> 9\u001b[0m \u001b[38;5;28mprint\u001b[39m(\u001b[43mfibbonaci_ser\u001b[49m\u001b[43m(\u001b[49m\u001b[38;5;241;43m5\u001b[39;49m\u001b[43m)\u001b[49m)\n",
      "Input \u001b[0;32mIn [1]\u001b[0m, in \u001b[0;36mfibbonaci_ser\u001b[0;34m(n)\u001b[0m\n\u001b[1;32m      5\u001b[0m \u001b[38;5;28;01melse\u001b[39;00m:\n\u001b[1;32m      6\u001b[0m     c\u001b[38;5;241m=\u001b[39mls[\u001b[38;5;241m-\u001b[39m\u001b[38;5;241m1\u001b[39m]\u001b[38;5;241m+\u001b[39mls[\u001b[38;5;241m-\u001b[39m\u001b[38;5;241m2\u001b[39m]\n\u001b[0;32m----> 7\u001b[0m     series\u001b[38;5;241m=\u001b[39m\u001b[43mfibbonaci_ser\u001b[49m\u001b[38;5;241;43m.\u001b[39;49m\u001b[43mappend\u001b[49m(c)\n\u001b[1;32m      8\u001b[0m     series\n",
      "\u001b[0;31mAttributeError\u001b[0m: 'function' object has no attribute 'append'"
     ]
    }
   ],
   "source": [
    "ls=[0,1]\n",
    "def fibbonaci_ser(n):\n",
    "    if n<=2:\n",
    "        print(ls[:n])\n",
    "    else:\n",
    "        c=ls[-1]+ls[-2]\n",
    "        series=fibbonaci_ser.append(c)\n",
    "        series   \n",
    "print(fibbonaci_ser(5))    "
   ]
  },
  {
   "cell_type": "code",
   "execution_count": 3,
   "id": "5865abe1",
   "metadata": {},
   "outputs": [
    {
     "data": {
      "text/plain": [
       "[0, 1, 1, 2, 3, 5, 8, 13, 21, 34]"
      ]
     },
     "execution_count": 3,
     "metadata": {},
     "output_type": "execute_result"
    }
   ],
   "source": [
    "def fibbonaci_ser(n):\n",
    "    fibbonaciseries=[]\n",
    "    a,b=0,1\n",
    "    while(len(fibbonaciseries)<n):\n",
    "        fibbonaciseries.append(a)\n",
    "        a,b=b,a+b\n",
    "    return fibbonaciseries\n",
    "fibbonaci_ser(10)\n"
   ]
  },
  {
   "cell_type": "code",
   "execution_count": null,
   "id": "84f7e406",
   "metadata": {},
   "outputs": [],
   "source": [
    "statistics and machine learning...ashish sir\n",
    "python:mayank sir\n",
    "sql powerbi tableau mongodb:recording\n",
    "    "
   ]
  },
  {
   "cell_type": "code",
   "execution_count": 31,
   "id": "d72aa8c7",
   "metadata": {},
   "outputs": [
    {
     "name": "stdout",
     "output_type": "stream",
     "text": [
      "[1, 8]\n"
     ]
    }
   ],
   "source": [
    "\n",
    "a=[1,3,5,7,6,8]\n",
    "b=[1,1,8,9,1,0]\n",
    "d=[]\n",
    "for i in a:\n",
    "    for j in b:\n",
    "        if i==j and i not in d:\n",
    "            d.append(i)\n",
    "print(d)            \n",
    "            "
   ]
  },
  {
   "cell_type": "code",
   "execution_count": null,
   "id": "9e77e233",
   "metadata": {},
   "outputs": [],
   "source": [
    "#ASSIGNMENT ON FUNCTIONS:\n",
    "1. Write a Python program to triple all numbers in a given list of integers. Use Python map.\n",
    "\n",
    "\n",
    "2. Write a Python program to add three given lists using Python map and lambda.\n",
    "\n",
    "\n",
    "3. Write a Python program to listify the list of given strings individually using Python map.\n",
    "\n",
    "\n",
    "4. Write a Python program to create a list containing the power of said number in bases raised to the corresponding number in the index using Python map.\n",
    "\n",
    "\n",
    "5. Write a Python program to square the elements of a list using the map() function.\n",
    "\n",
    "\n",
    "\n",
    "6. Write a Python program to convert all the characters into upper case and the lower case and remove duplicates all the characters\n",
    "\n",
    "7. Write a Python program to add two given lists and find the difference between them. Use the map() function.\n",
    "\n",
    "\n",
    "8. Write a Python program to convert a given list of integers and a tuple of integers in a list of strings.\n",
    "\n",
    "\n",
    "9. Write a Python program to create a new list taking specific elements from a tuple and convert a string value to an integer.\n",
    "\n",
    "\n",
    "10. Write a Python program to compute the square of the first N Fibonacci numbers, using the map function and generate a list of the numbers.\n",
    "\n",
    "\n",
    "11. Write a Python program to compute the sum of elements of an array of integers. Use the map() function.\n",
    "\n",
    "\n",
    "12. Write a Python program to find the ratio of positive numbers, negative numbers and zeroes in an array of integers.\n",
    "\n",
    "\n",
    "13. Write a Python program to count the same pair in two given lists. use map() function.\n",
    "\n",
    "\n",
    "14. Write a Python program to interleave two lists into another list randomly. Use the map() function.\n",
    "\n",
    "\n",
    "15. Write a Python program to split a given dictionary of lists into list of dictionaries using the map function.\n",
    "\n",
    "\n",
    "16. Write a Python program to convert a given list of strings into a list of lists using the map function.\n",
    "\n",
    "\n",
    "\n",
    "17. Write a Python program to convert a given list of tuples to a list of strings using the map function.\n",
    "\n",
    "\n"
   ]
  },
  {
   "cell_type": "code",
   "execution_count": 2,
   "id": "3d599ae8",
   "metadata": {},
   "outputs": [
    {
     "name": "stdout",
     "output_type": "stream",
     "text": [
      "[3, 6, 9, 12, 15, 15, 24, 24, 27, 0]\n"
     ]
    }
   ],
   "source": [
    "#1. Write a Python program to triple all numbers in a given list of integers. Use Python map.\n",
    "ls=[1,2,3,4,5,5,8,8,9,0]\n",
    "result_=list(map(lambda x:x*3,ls))\n",
    "print(result_)"
   ]
  },
  {
   "cell_type": "code",
   "execution_count": 4,
   "id": "251c5244",
   "metadata": {},
   "outputs": [
    {
     "name": "stdout",
     "output_type": "stream",
     "text": [
      "[13, 11, 12]\n"
     ]
    }
   ],
   "source": [
    "#2.Write a Python program to add three given lists using Python map and lambda.\n",
    "a=[1,2,3]\n",
    "b=[4,7,9]\n",
    "c=[8,2,0]\n",
    "result_=list(map(lambda x,y,z:x+y+z,a,b,c))\n",
    "print(result_)"
   ]
  },
  {
   "cell_type": "code",
   "execution_count": 16,
   "id": "04144818",
   "metadata": {},
   "outputs": [
    {
     "name": "stdout",
     "output_type": "stream",
     "text": [
      "[['m', 'y'], ['n', 'a', 'm', 'e'], ['i', 's'], ['a', 'n', 'k', 'i', 't']]\n"
     ]
    }
   ],
   "source": [
    "#3. Write a Python program to listify the list of given strings individually using Python map.\n",
    "a=[\"my\",\"name\",\"is\",\"ankit\"]\n",
    "result_=list(map(lambda x:list(x),a))\n",
    "print(result_)"
   ]
  },
  {
   "cell_type": "code",
   "execution_count": 17,
   "id": "e695900b",
   "metadata": {},
   "outputs": [
    {
     "name": "stdout",
     "output_type": "stream",
     "text": [
      "[1, 4, 9]\n"
     ]
    }
   ],
   "source": [
    "#5. Write a Python program to square the elements of a list using the map() function.\n",
    "a=[1,2,3]\n",
    "result_=list(map(lambda x:x**2,a))\n",
    "print(result_)"
   ]
  },
  {
   "cell_type": "code",
   "execution_count": 28,
   "id": "e527a9eb",
   "metadata": {},
   "outputs": [
    {
     "name": "stdout",
     "output_type": "stream",
     "text": [
      "{('b', 'B'), ('v', 'V'), ('k', 'K'), ('i', 'I'), ('a', 'A'), ('j', 'J'), ('c', 'C')}\n"
     ]
    }
   ],
   "source": [
    "#6. Write a Python program to convert all the characters into upper case and the lower case and remove duplicates all the characters\n",
    "a=[\"a\",\"A\",\"b\",\"c\",\"V\",\"B\",\"I\",\"j\",\"k\",\"I\",\"a\",\"b\"]\n",
    "def str_lower_upper(k):\n",
    "     return str(k).lower(),str(k).upper()\n",
    "result_=map(str_lower_upper,a)\n",
    "print(set(result_))"
   ]
  },
  {
   "cell_type": "code",
   "execution_count": 29,
   "id": "c123c0e8",
   "metadata": {},
   "outputs": [
    {
     "name": "stdout",
     "output_type": "stream",
     "text": [
      "[3, 9, 11, 13, 5]\n",
      "[-1, -5, -5, -5, 5]\n"
     ]
    }
   ],
   "source": [
    "#7. Write a Python program to add two given lists and find the difference between them. Use the map() function.\n",
    "a=[1,2,3,4,5]\n",
    "b=[2,7,8,9,0]\n",
    "result_=list(map(lambda x,y:x+y,a,b))\n",
    "result1_=list(map(lambda x,y:x-y,a,b))\n",
    "print(result_)\n",
    "print(result1_)\n"
   ]
  },
  {
   "cell_type": "code",
   "execution_count": 30,
   "id": "96d0272f",
   "metadata": {},
   "outputs": [
    {
     "name": "stdout",
     "output_type": "stream",
     "text": [
      "['1', '2', '3', '4', '5', '6']\n",
      "('1', '2', '3', '4', '5', '6', '7', '8', '90', '0')\n"
     ]
    }
   ],
   "source": [
    "#8. Write a Python program to convert a given list of integers and a tuple of integers in a list of strings.\n",
    "a=[1,2,3,4,5,6]\n",
    "b=(1,2,3,4,5,6,7,8,90,0)\n",
    "result1=list(map(str,a))\n",
    "result2=tuple(map(str,b))\n",
    "print(result1)\n",
    "print(result2)\n",
    "             "
   ]
  },
  {
   "cell_type": "code",
   "execution_count": 33,
   "id": "9701f23b",
   "metadata": {},
   "outputs": [
    {
     "ename": "NameError",
     "evalue": "name 'fbs2' is not defined",
     "output_type": "error",
     "traceback": [
      "\u001b[0;31m---------------------------------------------------------------------------\u001b[0m",
      "\u001b[0;31mNameError\u001b[0m                                 Traceback (most recent call last)",
      "Input \u001b[0;32mIn [33]\u001b[0m, in \u001b[0;36m<cell line: 10>\u001b[0;34m()\u001b[0m\n\u001b[1;32m      8\u001b[0m         a,b\u001b[38;5;241m=\u001b[39mb,a\u001b[38;5;241m+\u001b[39mb\n\u001b[1;32m      9\u001b[0m     \u001b[38;5;28;01mreturn\u001b[39;00m fbs2\n\u001b[0;32m---> 10\u001b[0m result1\u001b[38;5;241m=\u001b[39m\u001b[38;5;28mmap\u001b[39m(\u001b[38;5;28;01mlambda\u001b[39;00m x:x\u001b[38;5;241m*\u001b[39mx,\u001b[43mfbs2\u001b[49m)\n\u001b[1;32m     11\u001b[0m \u001b[38;5;28mprint\u001b[39m(result1)\n",
      "\u001b[0;31mNameError\u001b[0m: name 'fbs2' is not defined"
     ]
    }
   ],
   "source": [
    "#10. Write a Python program to compute the square of the first N Fibonacci numbers, using the map function and generate a list of the numbers.\n",
    "def fbs(n):\n",
    "    a=0\n",
    "    b=1\n",
    "    fbs2=[]\n",
    "    while(len(fbs2)<n):\n",
    "        fbs2.append(a)\n",
    "        a,b=b,a+b\n",
    "    return fbs2\n",
    "result1=map(lambda x:x*x,fbs2)\n",
    "print(result1)\n",
    "        \n",
    "        \n",
    "    "
   ]
  },
  {
   "cell_type": "code",
   "execution_count": null,
   "id": "f22043df",
   "metadata": {},
   "outputs": [],
   "source": []
  }
 ],
 "metadata": {
  "kernelspec": {
   "display_name": "Python 3 (ipykernel)",
   "language": "python",
   "name": "python3"
  },
  "language_info": {
   "codemirror_mode": {
    "name": "ipython",
    "version": 3
   },
   "file_extension": ".py",
   "mimetype": "text/x-python",
   "name": "python",
   "nbconvert_exporter": "python",
   "pygments_lexer": "ipython3",
   "version": "3.9.12"
  }
 },
 "nbformat": 4,
 "nbformat_minor": 5
}
